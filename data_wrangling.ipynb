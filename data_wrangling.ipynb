{
  "nbformat": 4,
  "nbformat_minor": 0,
  "metadata": {
    "colab": {
      "name": "data_wrangling.ipynb",
      "provenance": [],
      "collapsed_sections": [],
      "authorship_tag": "ABX9TyO1w0oQ2hfFI1afi1zui7uI",
      "include_colab_link": true
    },
    "kernelspec": {
      "name": "python3",
      "display_name": "Python 3"
    },
    "language_info": {
      "name": "python"
    }
  },
  "cells": [
    {
      "cell_type": "markdown",
      "metadata": {
        "id": "view-in-github",
        "colab_type": "text"
      },
      "source": [
        "<a href=\"https://colab.research.google.com/github/huzaifakarbalai/DataWrangling_Python/blob/main/data_wrangling.ipynb\" target=\"_parent\"><img src=\"https://colab.research.google.com/assets/colab-badge.svg\" alt=\"Open In Colab\"/></a>"
      ]
    },
    {
      "cell_type": "code",
      "execution_count": null,
      "metadata": {
        "colab": {
          "base_uri": "https://localhost:8080/",
          "height": 206
        },
        "id": "1pGF4xFcbGLv",
        "outputId": "23fba563-90bb-4a5a-c959-f92c43d29b2c"
      },
      "outputs": [
        {
          "output_type": "execute_result",
          "data": {
            "text/html": [
              "\n",
              "  <div id=\"df-97e0029f-f145-4219-8675-c811347455bc\">\n",
              "    <div class=\"colab-df-container\">\n",
              "      <div>\n",
              "<style scoped>\n",
              "    .dataframe tbody tr th:only-of-type {\n",
              "        vertical-align: middle;\n",
              "    }\n",
              "\n",
              "    .dataframe tbody tr th {\n",
              "        vertical-align: top;\n",
              "    }\n",
              "\n",
              "    .dataframe thead th {\n",
              "        text-align: right;\n",
              "    }\n",
              "</style>\n",
              "<table border=\"1\" class=\"dataframe\">\n",
              "  <thead>\n",
              "    <tr style=\"text-align: right;\">\n",
              "      <th></th>\n",
              "      <th>datetime</th>\n",
              "      <th>season</th>\n",
              "      <th>holiday</th>\n",
              "      <th>workingday</th>\n",
              "      <th>weather</th>\n",
              "      <th>temp</th>\n",
              "      <th>atemp</th>\n",
              "      <th>humidity</th>\n",
              "      <th>windspeed</th>\n",
              "      <th>casual</th>\n",
              "      <th>registered</th>\n",
              "      <th>count</th>\n",
              "      <th>total</th>\n",
              "      <th>Products</th>\n",
              "    </tr>\n",
              "  </thead>\n",
              "  <tbody>\n",
              "    <tr>\n",
              "      <th>0</th>\n",
              "      <td>2011-01-01 00:00:00</td>\n",
              "      <td>1.0</td>\n",
              "      <td>0</td>\n",
              "      <td>0.0</td>\n",
              "      <td>1.0</td>\n",
              "      <td>9.84</td>\n",
              "      <td>14.395</td>\n",
              "      <td>81.0</td>\n",
              "      <td>0</td>\n",
              "      <td>3.0</td>\n",
              "      <td>13.0</td>\n",
              "      <td>16</td>\n",
              "      <td>1.0</td>\n",
              "      <td>abc</td>\n",
              "    </tr>\n",
              "    <tr>\n",
              "      <th>1</th>\n",
              "      <td>2011-01-01 01:00:00</td>\n",
              "      <td>1.0</td>\n",
              "      <td>0</td>\n",
              "      <td>0.0</td>\n",
              "      <td>1.0</td>\n",
              "      <td>9.02</td>\n",
              "      <td>13.635</td>\n",
              "      <td>80.0</td>\n",
              "      <td>0</td>\n",
              "      <td>8.0</td>\n",
              "      <td>32.0</td>\n",
              "      <td>40</td>\n",
              "      <td>2.0</td>\n",
              "      <td>abc</td>\n",
              "    </tr>\n",
              "    <tr>\n",
              "      <th>2</th>\n",
              "      <td>2011-01-01 02:00:00</td>\n",
              "      <td>1.0</td>\n",
              "      <td>0</td>\n",
              "      <td>0.0</td>\n",
              "      <td>1.0</td>\n",
              "      <td>9.02</td>\n",
              "      <td>13.635</td>\n",
              "      <td>80.0</td>\n",
              "      <td>0</td>\n",
              "      <td>5.0</td>\n",
              "      <td>27.0</td>\n",
              "      <td>32</td>\n",
              "      <td>3.0</td>\n",
              "      <td>abc</td>\n",
              "    </tr>\n",
              "    <tr>\n",
              "      <th>3</th>\n",
              "      <td>2011-01-01 03:00:00</td>\n",
              "      <td>1.0</td>\n",
              "      <td>0</td>\n",
              "      <td>0.0</td>\n",
              "      <td>1.0</td>\n",
              "      <td>9.84</td>\n",
              "      <td>14.395</td>\n",
              "      <td>75.0</td>\n",
              "      <td>0</td>\n",
              "      <td>3.0</td>\n",
              "      <td>10.0</td>\n",
              "      <td>13</td>\n",
              "      <td>NaN</td>\n",
              "      <td>abc</td>\n",
              "    </tr>\n",
              "    <tr>\n",
              "      <th>4</th>\n",
              "      <td>2011-01-01 04:00:00</td>\n",
              "      <td>1.0</td>\n",
              "      <td>0</td>\n",
              "      <td>0.0</td>\n",
              "      <td>1.0</td>\n",
              "      <td>9.84</td>\n",
              "      <td>14.395</td>\n",
              "      <td>75.0</td>\n",
              "      <td>0</td>\n",
              "      <td>0.0</td>\n",
              "      <td>1.0</td>\n",
              "      <td>1</td>\n",
              "      <td>NaN</td>\n",
              "      <td>abc</td>\n",
              "    </tr>\n",
              "  </tbody>\n",
              "</table>\n",
              "</div>\n",
              "      <button class=\"colab-df-convert\" onclick=\"convertToInteractive('df-97e0029f-f145-4219-8675-c811347455bc')\"\n",
              "              title=\"Convert this dataframe to an interactive table.\"\n",
              "              style=\"display:none;\">\n",
              "        \n",
              "  <svg xmlns=\"http://www.w3.org/2000/svg\" height=\"24px\"viewBox=\"0 0 24 24\"\n",
              "       width=\"24px\">\n",
              "    <path d=\"M0 0h24v24H0V0z\" fill=\"none\"/>\n",
              "    <path d=\"M18.56 5.44l.94 2.06.94-2.06 2.06-.94-2.06-.94-.94-2.06-.94 2.06-2.06.94zm-11 1L8.5 8.5l.94-2.06 2.06-.94-2.06-.94L8.5 2.5l-.94 2.06-2.06.94zm10 10l.94 2.06.94-2.06 2.06-.94-2.06-.94-.94-2.06-.94 2.06-2.06.94z\"/><path d=\"M17.41 7.96l-1.37-1.37c-.4-.4-.92-.59-1.43-.59-.52 0-1.04.2-1.43.59L10.3 9.45l-7.72 7.72c-.78.78-.78 2.05 0 2.83L4 21.41c.39.39.9.59 1.41.59.51 0 1.02-.2 1.41-.59l7.78-7.78 2.81-2.81c.8-.78.8-2.07 0-2.86zM5.41 20L4 18.59l7.72-7.72 1.47 1.35L5.41 20z\"/>\n",
              "  </svg>\n",
              "      </button>\n",
              "      \n",
              "  <style>\n",
              "    .colab-df-container {\n",
              "      display:flex;\n",
              "      flex-wrap:wrap;\n",
              "      gap: 12px;\n",
              "    }\n",
              "\n",
              "    .colab-df-convert {\n",
              "      background-color: #E8F0FE;\n",
              "      border: none;\n",
              "      border-radius: 50%;\n",
              "      cursor: pointer;\n",
              "      display: none;\n",
              "      fill: #1967D2;\n",
              "      height: 32px;\n",
              "      padding: 0 0 0 0;\n",
              "      width: 32px;\n",
              "    }\n",
              "\n",
              "    .colab-df-convert:hover {\n",
              "      background-color: #E2EBFA;\n",
              "      box-shadow: 0px 1px 2px rgba(60, 64, 67, 0.3), 0px 1px 3px 1px rgba(60, 64, 67, 0.15);\n",
              "      fill: #174EA6;\n",
              "    }\n",
              "\n",
              "    [theme=dark] .colab-df-convert {\n",
              "      background-color: #3B4455;\n",
              "      fill: #D2E3FC;\n",
              "    }\n",
              "\n",
              "    [theme=dark] .colab-df-convert:hover {\n",
              "      background-color: #434B5C;\n",
              "      box-shadow: 0px 1px 3px 1px rgba(0, 0, 0, 0.15);\n",
              "      filter: drop-shadow(0px 1px 2px rgba(0, 0, 0, 0.3));\n",
              "      fill: #FFFFFF;\n",
              "    }\n",
              "  </style>\n",
              "\n",
              "      <script>\n",
              "        const buttonEl =\n",
              "          document.querySelector('#df-97e0029f-f145-4219-8675-c811347455bc button.colab-df-convert');\n",
              "        buttonEl.style.display =\n",
              "          google.colab.kernel.accessAllowed ? 'block' : 'none';\n",
              "\n",
              "        async function convertToInteractive(key) {\n",
              "          const element = document.querySelector('#df-97e0029f-f145-4219-8675-c811347455bc');\n",
              "          const dataTable =\n",
              "            await google.colab.kernel.invokeFunction('convertToInteractive',\n",
              "                                                     [key], {});\n",
              "          if (!dataTable) return;\n",
              "\n",
              "          const docLinkHtml = 'Like what you see? Visit the ' +\n",
              "            '<a target=\"_blank\" href=https://colab.research.google.com/notebooks/data_table.ipynb>data table notebook</a>'\n",
              "            + ' to learn more about interactive tables.';\n",
              "          element.innerHTML = '';\n",
              "          dataTable['output_type'] = 'display_data';\n",
              "          await google.colab.output.renderOutput(dataTable, element);\n",
              "          const docLink = document.createElement('div');\n",
              "          docLink.innerHTML = docLinkHtml;\n",
              "          element.appendChild(docLink);\n",
              "        }\n",
              "      </script>\n",
              "    </div>\n",
              "  </div>\n",
              "  "
            ],
            "text/plain": [
              "              datetime  season holiday  ...  count  total  Products\n",
              "0  2011-01-01 00:00:00     1.0       0  ...     16    1.0       abc\n",
              "1  2011-01-01 01:00:00     1.0       0  ...     40    2.0       abc\n",
              "2  2011-01-01 02:00:00     1.0       0  ...     32    3.0       abc\n",
              "3  2011-01-01 03:00:00     1.0       0  ...     13    NaN       abc\n",
              "4  2011-01-01 04:00:00     1.0       0  ...      1    NaN       abc\n",
              "\n",
              "[5 rows x 14 columns]"
            ]
          },
          "metadata": {},
          "execution_count": 10
        }
      ],
      "source": [
        "import pandas as pd\n",
        "import missingno as msno\n",
        "data = pd.read_excel(\"/content/sample_data/dirtydata.xlsx\",\"Sheet 1\")\n",
        "\n",
        "data.head()"
      ]
    },
    {
      "cell_type": "code",
      "source": [
        "#check data type\n",
        "data.dtypes"
      ],
      "metadata": {
        "colab": {
          "base_uri": "https://localhost:8080/"
        },
        "id": "3lKZSVhkH-TX",
        "outputId": "38283922-e93b-4ed8-bf32-70318d7304cc"
      },
      "execution_count": null,
      "outputs": [
        {
          "output_type": "execute_result",
          "data": {
            "text/plain": [
              "datetime       object\n",
              "season        float64\n",
              "holiday        object\n",
              "workingday    float64\n",
              "weather       float64\n",
              "temp          float64\n",
              "atemp         float64\n",
              "humidity      float64\n",
              "windspeed      object\n",
              "casual        float64\n",
              "registered    float64\n",
              "count          object\n",
              "total         float64\n",
              "Products       object\n",
              "dtype: object"
            ]
          },
          "metadata": {},
          "execution_count": 16
        }
      ]
    },
    {
      "cell_type": "markdown",
      "source": [
        "Checking for missing values\n"
      ],
      "metadata": {
        "id": "xSlHcaJ9EXXF"
      }
    },
    {
      "cell_type": "code",
      "source": [
        "#checking data for null values\n",
        "data.isnull().sum()"
      ],
      "metadata": {
        "id": "WyNmGsrzbK6Z",
        "colab": {
          "base_uri": "https://localhost:8080/"
        },
        "outputId": "b8ab5420-3e0f-4b52-88ba-0a68d10e3965"
      },
      "execution_count": null,
      "outputs": [
        {
          "output_type": "execute_result",
          "data": {
            "text/plain": [
              "datetime          4\n",
              "season            9\n",
              "holiday           7\n",
              "workingday        8\n",
              "weather           7\n",
              "temp             10\n",
              "atemp             7\n",
              "humidity         13\n",
              "windspeed        12\n",
              "casual            8\n",
              "registered        9\n",
              "count            11\n",
              "total         10883\n",
              "Products          7\n",
              "dtype: int64"
            ]
          },
          "metadata": {},
          "execution_count": 17
        }
      ]
    },
    {
      "cell_type": "code",
      "source": [
        "#check the pattern of missing values\n",
        "msno.matrix(data)"
      ],
      "metadata": {
        "id": "EAbxIe1HE8FU",
        "colab": {
          "base_uri": "https://localhost:8080/",
          "height": 707
        },
        "outputId": "d4bea6fd-7eef-41a4-fc66-d637faa3b300"
      },
      "execution_count": null,
      "outputs": [
        {
          "output_type": "execute_result",
          "data": {
            "text/plain": [
              "<matplotlib.axes._subplots.AxesSubplot at 0x7fd6575eec90>"
            ]
          },
          "metadata": {},
          "execution_count": 15
        },
        {
          "output_type": "display_data",
          "data": {
            "image/png": "[encoded data removed]",
            "text/plain": [
              "<Figure size 1800x720 with 2 Axes>"
            ]
          },
          "metadata": {
            "needs_background": "light"
          }
        }
      ]
    },
    {
      "cell_type": "markdown",
      "source": [
        "Deleting the column with missing data"
      ],
      "metadata": {
        "id": "rSG5JpaELRfH"
      }
    },
    {
      "cell_type": "code",
      "source": [
        "updated_data = data.dropna(axis=1)\n",
        "updated_data.isnull().sum()"
      ],
      "metadata": {
        "colab": {
          "base_uri": "https://localhost:8080/"
        },
        "id": "SElAsyP-IPm0",
        "outputId": "ae69aaf6-7740-4bce-a2e7-92a5f9c24ed3"
      },
      "execution_count": null,
      "outputs": [
        {
          "output_type": "execute_result",
          "data": {
            "text/plain": [
              "Series([], dtype: float64)"
            ]
          },
          "metadata": {},
          "execution_count": 22
        }
      ]
    },
    {
      "cell_type": "markdown",
      "source": [
        "Deleting the row with missing data"
      ],
      "metadata": {
        "id": "HUGM-TvuLdnF"
      }
    },
    {
      "cell_type": "code",
      "source": [
        "updated_df = data.dropna(axis=0)\n",
        "updated_data.isnull().sum()"
      ],
      "metadata": {
        "colab": {
          "base_uri": "https://localhost:8080/"
        },
        "id": "ySaWs_F_LPqr",
        "outputId": "c099832b-7bbd-4f23-a7ac-4578fe90f398"
      },
      "execution_count": null,
      "outputs": [
        {
          "output_type": "execute_result",
          "data": {
            "text/plain": [
              "Series([], dtype: float64)"
            ]
          },
          "metadata": {},
          "execution_count": 23
        }
      ]
    },
    {
      "cell_type": "markdown",
      "source": [
        "Filling the missing data with the mean or median value if it’s a numerical variable."
      ],
      "metadata": {
        "id": "2qdRhGYmMEkB"
      }
    },
    {
      "cell_type": "code",
      "source": [
        "updated_da = data\n",
        "updated_da['workingday']=updated_da['workingday'].fillna(updated_da['workingday'].mean())\n",
        "updated_da['temp']=updated_da['temp'].fillna(updated_da['temp'].median())\n",
        "updated_da.isnull().sum()"
      ],
      "metadata": {
        "colab": {
          "base_uri": "https://localhost:8080/"
        },
        "id": "P6SDFemLMGTG",
        "outputId": "25ea2fde-e9c0-4cbb-e8fa-d64604980290"
      },
      "execution_count": null,
      "outputs": [
        {
          "output_type": "execute_result",
          "data": {
            "text/plain": [
              "datetime                 4\n",
              "season                   9\n",
              "holiday                  7\n",
              "workingday               0\n",
              "weather                  7\n",
              "temp                     0\n",
              "atemp                    7\n",
              "humidity                13\n",
              "windspeed               12\n",
              "casual                   8\n",
              "registered               9\n",
              "count                   11\n",
              "total                10883\n",
              "Products                 7\n",
              "seasonismissing      10883\n",
              "humidityismissing        0\n",
              "dtype: int64"
            ]
          },
          "metadata": {},
          "execution_count": 46
        }
      ]
    },
    {
      "cell_type": "markdown",
      "source": [
        "Replacing mistyped values from the columns"
      ],
      "metadata": {
        "id": "FV8yvuXpdY3F"
      }
    },
    {
      "cell_type": "code",
      "source": [
        "updated_da['windspeed'] = updated_da['windspeed'].str.replace('why not','')\n",
        "updated_da = updated_da.drop([\"windspeed\",\"count\",\"Products\"],axis=1)"
      ],
      "metadata": {
        "id": "FarhRxSldXTV"
      },
      "execution_count": null,
      "outputs": []
    },
    {
      "cell_type": "markdown",
      "source": [
        "Imputation with an additional column"
      ],
      "metadata": {
        "id": "QeLDH3hyOVZ5"
      }
    },
    {
      "cell_type": "code",
      "source": [
        "from sklearn.impute import SimpleImputer\n",
        "my_imputer = SimpleImputer(strategy = 'median')\n",
        "updated_da[['casual']] = my_imputer.fit_transform(data[['casual']])\n",
        "updated_da.isnull().sum()"
      ],
      "metadata": {
        "colab": {
          "base_uri": "https://localhost:8080/"
        },
        "id": "fAtU095AOJm1",
        "outputId": "c8812d29-e3bc-467f-b862-406612997508"
      },
      "execution_count": null,
      "outputs": [
        {
          "output_type": "execute_result",
          "data": {
            "text/plain": [
              "season                 9\n",
              "workingday             0\n",
              "weather                7\n",
              "temp                   0\n",
              "atemp                  7\n",
              "humidity              13\n",
              "casual                 0\n",
              "registered             9\n",
              "total              10883\n",
              "casualismissing        0\n",
              "dtype: int64"
            ]
          },
          "metadata": {},
          "execution_count": 85
        }
      ]
    },
    {
      "cell_type": "markdown",
      "source": [
        "Outlier Detection"
      ],
      "metadata": {
        "id": "JGS2ASalkHyN"
      }
    },
    {
      "cell_type": "code",
      "source": [
        "import seaborn as sns\n",
        "sns.boxplot(data['registered'])"
      ],
      "metadata": {
        "colab": {
          "base_uri": "https://localhost:8080/",
          "height": 351
        },
        "id": "apQAez9Cgv7f",
        "outputId": "c1b4fd2e-e7fe-4b54-8d7e-5c70540de11b"
      },
      "execution_count": null,
      "outputs": [
        {
          "output_type": "stream",
          "name": "stderr",
          "text": [
            "/usr/local/lib/python3.7/dist-packages/seaborn/_decorators.py:43: FutureWarning: Pass the following variable as a keyword arg: x. From version 0.12, the only valid positional argument will be `data`, and passing other arguments without an explicit keyword will result in an error or misinterpretation.\n",
            "  FutureWarning\n"
          ]
        },
        {
          "output_type": "execute_result",
          "data": {
            "text/plain": [
              "<matplotlib.axes._subplots.AxesSubplot at 0x7fd651a55fd0>"
            ]
          },
          "metadata": {},
          "execution_count": 86
        },
        {
          "output_type": "display_data",
          "data": {
            "image/png": "[encoded data removed]",
            "text/plain": [
              "<Figure size 432x288 with 1 Axes>"
            ]
          },
          "metadata": {
            "needs_background": "light"
          }
        }
      ]
    },
    {
      "cell_type": "code",
      "source": [
        "df = updated_da[updated_da['registered'] > 400] # Removing rows with registered less than 500\n",
        "sns.boxplot(df['registered'])"
      ],
      "metadata": {
        "colab": {
          "base_uri": "https://localhost:8080/",
          "height": 351
        },
        "id": "H69lgJBwkm9y",
        "outputId": "ad3868f1-6044-44e3-87f9-06eddddd1ef7"
      },
      "execution_count": null,
      "outputs": [
        {
          "output_type": "stream",
          "name": "stderr",
          "text": [
            "/usr/local/lib/python3.7/dist-packages/seaborn/_decorators.py:43: FutureWarning: Pass the following variable as a keyword arg: x. From version 0.12, the only valid positional argument will be `data`, and passing other arguments without an explicit keyword will result in an error or misinterpretation.\n",
            "  FutureWarning\n"
          ]
        },
        {
          "output_type": "execute_result",
          "data": {
            "text/plain": [
              "<matplotlib.axes._subplots.AxesSubplot at 0x7fd6517beb90>"
            ]
          },
          "metadata": {},
          "execution_count": 90
        },
        {
          "output_type": "display_data",
          "data": {
            "image/png": "[encoded data removed]",
            "text/plain": [
              "<Figure size 432x288 with 1 Axes>"
            ]
          },
          "metadata": {
            "needs_background": "light"
          }
        }
      ]
    },
    {
      "cell_type": "markdown",
      "source": [
        "Desciptive Analysis"
      ],
      "metadata": {
        "id": "3lBmKOEgln7x"
      }
    },
    {
      "cell_type": "code",
      "source": [
        "data.describe()"
      ],
      "metadata": {
        "colab": {
          "base_uri": "https://localhost:8080/",
          "height": 300
        },
        "id": "AC6OVRRulnQ4",
        "outputId": "1490d489-fb28-4612-fe82-49aacab2b3a8"
      },
      "execution_count": null,
      "outputs": [
        {
          "output_type": "execute_result",
          "data": {
            "text/html": [
              "\n",
              "  <div id=\"df-4708baf5-2908-4b17-a99d-c04114acfcf1\">\n",
              "    <div class=\"colab-df-container\">\n",
              "      <div>\n",
              "<style scoped>\n",
              "    .dataframe tbody tr th:only-of-type {\n",
              "        vertical-align: middle;\n",
              "    }\n",
              "\n",
              "    .dataframe tbody tr th {\n",
              "        vertical-align: top;\n",
              "    }\n",
              "\n",
              "    .dataframe thead th {\n",
              "        text-align: right;\n",
              "    }\n",
              "</style>\n",
              "<table border=\"1\" class=\"dataframe\">\n",
              "  <thead>\n",
              "    <tr style=\"text-align: right;\">\n",
              "      <th></th>\n",
              "      <th>season</th>\n",
              "      <th>workingday</th>\n",
              "      <th>weather</th>\n",
              "      <th>temp</th>\n",
              "      <th>atemp</th>\n",
              "      <th>humidity</th>\n",
              "      <th>casual</th>\n",
              "      <th>registered</th>\n",
              "      <th>total</th>\n",
              "    </tr>\n",
              "  </thead>\n",
              "  <tbody>\n",
              "    <tr>\n",
              "      <th>count</th>\n",
              "      <td>10877.000000</td>\n",
              "      <td>10886.000000</td>\n",
              "      <td>10879.000000</td>\n",
              "      <td>10886.000000</td>\n",
              "      <td>10879.000000</td>\n",
              "      <td>10873.000000</td>\n",
              "      <td>10878.000000</td>\n",
              "      <td>10877.000000</td>\n",
              "      <td>3.0</td>\n",
              "    </tr>\n",
              "    <tr>\n",
              "      <th>mean</th>\n",
              "      <td>2.505930</td>\n",
              "      <td>0.680732</td>\n",
              "      <td>1.418697</td>\n",
              "      <td>20.207369</td>\n",
              "      <td>23.658606</td>\n",
              "      <td>61.899108</td>\n",
              "      <td>36.036404</td>\n",
              "      <td>155.477889</td>\n",
              "      <td>2.0</td>\n",
              "    </tr>\n",
              "    <tr>\n",
              "      <th>std</th>\n",
              "      <td>1.115806</td>\n",
              "      <td>0.466043</td>\n",
              "      <td>0.633954</td>\n",
              "      <td>8.150370</td>\n",
              "      <td>8.476089</td>\n",
              "      <td>19.250743</td>\n",
              "      <td>49.974707</td>\n",
              "      <td>150.992331</td>\n",
              "      <td>1.0</td>\n",
              "    </tr>\n",
              "    <tr>\n",
              "      <th>min</th>\n",
              "      <td>1.000000</td>\n",
              "      <td>0.000000</td>\n",
              "      <td>1.000000</td>\n",
              "      <td>-200.000000</td>\n",
              "      <td>0.760000</td>\n",
              "      <td>0.000000</td>\n",
              "      <td>0.000000</td>\n",
              "      <td>0.000000</td>\n",
              "      <td>1.0</td>\n",
              "    </tr>\n",
              "    <tr>\n",
              "      <th>25%</th>\n",
              "      <td>2.000000</td>\n",
              "      <td>0.000000</td>\n",
              "      <td>1.000000</td>\n",
              "      <td>13.940000</td>\n",
              "      <td>16.665000</td>\n",
              "      <td>47.000000</td>\n",
              "      <td>4.000000</td>\n",
              "      <td>36.000000</td>\n",
              "      <td>1.5</td>\n",
              "    </tr>\n",
              "    <tr>\n",
              "      <th>50%</th>\n",
              "      <td>3.000000</td>\n",
              "      <td>1.000000</td>\n",
              "      <td>1.000000</td>\n",
              "      <td>20.500000</td>\n",
              "      <td>24.240000</td>\n",
              "      <td>62.000000</td>\n",
              "      <td>17.000000</td>\n",
              "      <td>118.000000</td>\n",
              "      <td>2.0</td>\n",
              "    </tr>\n",
              "    <tr>\n",
              "      <th>75%</th>\n",
              "      <td>4.000000</td>\n",
              "      <td>1.000000</td>\n",
              "      <td>2.000000</td>\n",
              "      <td>26.240000</td>\n",
              "      <td>31.060000</td>\n",
              "      <td>77.000000</td>\n",
              "      <td>49.000000</td>\n",
              "      <td>222.000000</td>\n",
              "      <td>2.5</td>\n",
              "    </tr>\n",
              "    <tr>\n",
              "      <th>max</th>\n",
              "      <td>4.000000</td>\n",
              "      <td>1.000000</td>\n",
              "      <td>4.000000</td>\n",
              "      <td>41.000000</td>\n",
              "      <td>45.455000</td>\n",
              "      <td>100.000000</td>\n",
              "      <td>367.000000</td>\n",
              "      <td>886.000000</td>\n",
              "      <td>3.0</td>\n",
              "    </tr>\n",
              "  </tbody>\n",
              "</table>\n",
              "</div>\n",
              "      <button class=\"colab-df-convert\" onclick=\"convertToInteractive('df-4708baf5-2908-4b17-a99d-c04114acfcf1')\"\n",
              "              title=\"Convert this dataframe to an interactive table.\"\n",
              "              style=\"display:none;\">\n",
              "        \n",
              "  <svg xmlns=\"http://www.w3.org/2000/svg\" height=\"24px\"viewBox=\"0 0 24 24\"\n",
              "       width=\"24px\">\n",
              "    <path d=\"M0 0h24v24H0V0z\" fill=\"none\"/>\n",
              "    <path d=\"M18.56 5.44l.94 2.06.94-2.06 2.06-.94-2.06-.94-.94-2.06-.94 2.06-2.06.94zm-11 1L8.5 8.5l.94-2.06 2.06-.94-2.06-.94L8.5 2.5l-.94 2.06-2.06.94zm10 10l.94 2.06.94-2.06 2.06-.94-2.06-.94-.94-2.06-.94 2.06-2.06.94z\"/><path d=\"M17.41 7.96l-1.37-1.37c-.4-.4-.92-.59-1.43-.59-.52 0-1.04.2-1.43.59L10.3 9.45l-7.72 7.72c-.78.78-.78 2.05 0 2.83L4 21.41c.39.39.9.59 1.41.59.51 0 1.02-.2 1.41-.59l7.78-7.78 2.81-2.81c.8-.78.8-2.07 0-2.86zM5.41 20L4 18.59l7.72-7.72 1.47 1.35L5.41 20z\"/>\n",
              "  </svg>\n",
              "      </button>\n",
              "      \n",
              "  <style>\n",
              "    .colab-df-container {\n",
              "      display:flex;\n",
              "      flex-wrap:wrap;\n",
              "      gap: 12px;\n",
              "    }\n",
              "\n",
              "    .colab-df-convert {\n",
              "      background-color: #E8F0FE;\n",
              "      border: none;\n",
              "      border-radius: 50%;\n",
              "      cursor: pointer;\n",
              "      display: none;\n",
              "      fill: #1967D2;\n",
              "      height: 32px;\n",
              "      padding: 0 0 0 0;\n",
              "      width: 32px;\n",
              "    }\n",
              "\n",
              "    .colab-df-convert:hover {\n",
              "      background-color: #E2EBFA;\n",
              "      box-shadow: 0px 1px 2px rgba(60, 64, 67, 0.3), 0px 1px 3px 1px rgba(60, 64, 67, 0.15);\n",
              "      fill: #174EA6;\n",
              "    }\n",
              "\n",
              "    [theme=dark] .colab-df-convert {\n",
              "      background-color: #3B4455;\n",
              "      fill: #D2E3FC;\n",
              "    }\n",
              "\n",
              "    [theme=dark] .colab-df-convert:hover {\n",
              "      background-color: #434B5C;\n",
              "      box-shadow: 0px 1px 3px 1px rgba(0, 0, 0, 0.15);\n",
              "      filter: drop-shadow(0px 1px 2px rgba(0, 0, 0, 0.3));\n",
              "      fill: #FFFFFF;\n",
              "    }\n",
              "  </style>\n",
              "\n",
              "      <script>\n",
              "        const buttonEl =\n",
              "          document.querySelector('#df-4708baf5-2908-4b17-a99d-c04114acfcf1 button.colab-df-convert');\n",
              "        buttonEl.style.display =\n",
              "          google.colab.kernel.accessAllowed ? 'block' : 'none';\n",
              "\n",
              "        async function convertToInteractive(key) {\n",
              "          const element = document.querySelector('#df-4708baf5-2908-4b17-a99d-c04114acfcf1');\n",
              "          const dataTable =\n",
              "            await google.colab.kernel.invokeFunction('convertToInteractive',\n",
              "                                                     [key], {});\n",
              "          if (!dataTable) return;\n",
              "\n",
              "          const docLinkHtml = 'Like what you see? Visit the ' +\n",
              "            '<a target=\"_blank\" href=https://colab.research.google.com/notebooks/data_table.ipynb>data table notebook</a>'\n",
              "            + ' to learn more about interactive tables.';\n",
              "          element.innerHTML = '';\n",
              "          dataTable['output_type'] = 'display_data';\n",
              "          await google.colab.output.renderOutput(dataTable, element);\n",
              "          const docLink = document.createElement('div');\n",
              "          docLink.innerHTML = docLinkHtml;\n",
              "          element.appendChild(docLink);\n",
              "        }\n",
              "      </script>\n",
              "    </div>\n",
              "  </div>\n",
              "  "
            ],
            "text/plain": [
              "             season    workingday  ...    registered  total\n",
              "count  10877.000000  10886.000000  ...  10877.000000    3.0\n",
              "mean       2.505930      0.680732  ...    155.477889    2.0\n",
              "std        1.115806      0.466043  ...    150.992331    1.0\n",
              "min        1.000000      0.000000  ...      0.000000    1.0\n",
              "25%        2.000000      0.000000  ...     36.000000    1.5\n",
              "50%        3.000000      1.000000  ...    118.000000    2.0\n",
              "75%        4.000000      1.000000  ...    222.000000    2.5\n",
              "max        4.000000      1.000000  ...    886.000000    3.0\n",
              "\n",
              "[8 rows x 9 columns]"
            ]
          },
          "metadata": {},
          "execution_count": 91
        }
      ]
    },
    {
      "cell_type": "code",
      "source": [
        "from matplotlib import pyplot as plt\n",
        "plt.figure(figsize=(15,10)) \n",
        "sns.color_palette(as_cmap=True)\n",
        "sns.heatmap(data.corr(), annot=True, cmap='coolwarm', center = 0)"
      ],
      "metadata": {
        "colab": {
          "base_uri": "https://localhost:8080/",
          "height": 612
        },
        "id": "V3NJHsUXmbMC",
        "outputId": "ddaf89ab-dc63-453c-9994-4b8235edd50f"
      },
      "execution_count": null,
      "outputs": [
        {
          "output_type": "execute_result",
          "data": {
            "text/plain": [
              "<matplotlib.axes._subplots.AxesSubplot at 0x7fd6535bac10>"
            ]
          },
          "metadata": {},
          "execution_count": 92
        },
        {
          "output_type": "display_data",
          "data": {
            "image/png": "[encoded data removed]",
            "text/plain": [
              "<Figure size 1080x720 with 2 Axes>"
            ]
          },
          "metadata": {
            "needs_background": "light"
          }
        }
      ]
    },
    {
      "cell_type": "markdown",
      "source": [
        "Insight 1: Weather has a good correlation with humidity which is logical\n"
      ],
      "metadata": {
        "id": "v7S2PTy5m6VW"
      }
    },
    {
      "cell_type": "markdown",
      "source": [
        "Insight 2: Temp and season also has a good positive correlation"
      ],
      "metadata": {
        "id": "aTX80VehntwO"
      }
    },
    {
      "cell_type": "markdown",
      "source": [
        "Inferential Analysis"
      ],
      "metadata": {
        "id": "bg4kwo8CnxoX"
      }
    },
    {
      "cell_type": "markdown",
      "source": [
        "T-Test"
      ],
      "metadata": {
        "id": "Zto0eBCWn1T5"
      }
    },
    {
      "cell_type": "code",
      "source": [
        "import numpy as np\n",
        "from scipy import stats\n",
        "def get_num_cols(df):\n",
        "    types_map = df.dtypes.to_dict()\n",
        "    num_columns = []\n",
        "    for k,v in types_map.items():\n",
        "        if np.issubdtype(np.int64, v) or np.issubdtype(np.float64, v):\n",
        "            num_columns.append(k)\n",
        "\n",
        "    print(num_columns)\n",
        "    return num_columns\n",
        "\n",
        "def t_test(df):\n",
        "    num_columns = get_num_cols(df)\n",
        "    for i in range(len(num_columns)-1):\n",
        "        print(\"\\n --------\"+num_columns[i]+\"--------\")\n",
        "        for j in range(i+1,len(num_columns)):\n",
        "            col1 = num_columns[i]\n",
        "            col2 = num_columns[j]\n",
        "            t_val, p_val = stats.ttest_ind(df[col1], df[col2])\n",
        "            print(\"(%s,%s) => t-value=%s, p-value=%s\" % (num_columns[i], num_columns[j], str(t_val), str(p_val)))\n",
        "            # interpret p-value\n",
        "            alpha = 0.05\n",
        "            #print('significance=%.3f, p=%.3f' % (alpha, p_val))\n",
        "            if p_val <= alpha:\n",
        "                print('Dependent (reject H0)')\n",
        "            else:\n",
        "                print('Independent (fail to reject H0)')"
      ],
      "metadata": {
        "id": "q_5SDW9rnpn3"
      },
      "execution_count": null,
      "outputs": []
    },
    {
      "cell_type": "code",
      "source": [
        "t_test(data)"
      ],
      "metadata": {
        "colab": {
          "base_uri": "https://localhost:8080/"
        },
        "id": "tJKlrKrdoH2z",
        "outputId": "639b03cd-1ccb-4c95-e5b4-a8d5dbd391ea"
      },
      "execution_count": null,
      "outputs": [
        {
          "output_type": "stream",
          "name": "stdout",
          "text": [
            "['season', 'workingday', 'weather', 'temp', 'atemp', 'humidity', 'casual', 'registered', 'total']\n",
            "\n",
            " --------season--------\n",
            "(season,workingday) => t-value=nan, p-value=nan\n",
            "Independent (fail to reject H0)\n",
            "(season,weather) => t-value=nan, p-value=nan\n",
            "Independent (fail to reject H0)\n",
            "(season,temp) => t-value=nan, p-value=nan\n",
            "Independent (fail to reject H0)\n",
            "(season,atemp) => t-value=nan, p-value=nan\n",
            "Independent (fail to reject H0)\n",
            "(season,humidity) => t-value=nan, p-value=nan\n",
            "Independent (fail to reject H0)\n",
            "(season,casual) => t-value=nan, p-value=nan\n",
            "Independent (fail to reject H0)\n",
            "(season,registered) => t-value=nan, p-value=nan\n",
            "Independent (fail to reject H0)\n",
            "(season,total) => t-value=nan, p-value=nan\n",
            "Independent (fail to reject H0)\n",
            "\n",
            " --------workingday--------\n",
            "(workingday,weather) => t-value=nan, p-value=nan\n",
            "Independent (fail to reject H0)\n",
            "(workingday,temp) => t-value=-249.56027219688238, p-value=0.0\n",
            "Dependent (reject H0)\n",
            "(workingday,atemp) => t-value=nan, p-value=nan\n",
            "Independent (fail to reject H0)\n",
            "(workingday,humidity) => t-value=nan, p-value=nan\n",
            "Independent (fail to reject H0)\n",
            "(workingday,casual) => t-value=nan, p-value=nan\n",
            "Independent (fail to reject H0)\n",
            "(workingday,registered) => t-value=nan, p-value=nan\n",
            "Independent (fail to reject H0)\n",
            "(workingday,total) => t-value=nan, p-value=nan\n",
            "Independent (fail to reject H0)\n",
            "\n",
            " --------weather--------\n",
            "(weather,temp) => t-value=nan, p-value=nan\n",
            "Independent (fail to reject H0)\n",
            "(weather,atemp) => t-value=nan, p-value=nan\n",
            "Independent (fail to reject H0)\n",
            "(weather,humidity) => t-value=nan, p-value=nan\n",
            "Independent (fail to reject H0)\n",
            "(weather,casual) => t-value=nan, p-value=nan\n",
            "Independent (fail to reject H0)\n",
            "(weather,registered) => t-value=nan, p-value=nan\n",
            "Independent (fail to reject H0)\n",
            "(weather,total) => t-value=nan, p-value=nan\n",
            "Independent (fail to reject H0)\n",
            "\n",
            " --------temp--------\n",
            "(temp,atemp) => t-value=nan, p-value=nan\n",
            "Independent (fail to reject H0)\n",
            "(temp,humidity) => t-value=nan, p-value=nan\n",
            "Independent (fail to reject H0)\n",
            "(temp,casual) => t-value=nan, p-value=nan\n",
            "Independent (fail to reject H0)\n",
            "(temp,registered) => t-value=nan, p-value=nan\n",
            "Independent (fail to reject H0)\n",
            "(temp,total) => t-value=nan, p-value=nan\n",
            "Independent (fail to reject H0)\n",
            "\n",
            " --------atemp--------\n",
            "(atemp,humidity) => t-value=nan, p-value=nan\n",
            "Independent (fail to reject H0)\n",
            "(atemp,casual) => t-value=nan, p-value=nan\n",
            "Independent (fail to reject H0)\n",
            "(atemp,registered) => t-value=nan, p-value=nan\n",
            "Independent (fail to reject H0)\n",
            "(atemp,total) => t-value=nan, p-value=nan\n",
            "Independent (fail to reject H0)\n",
            "\n",
            " --------humidity--------\n",
            "(humidity,casual) => t-value=nan, p-value=nan\n",
            "Independent (fail to reject H0)\n",
            "(humidity,registered) => t-value=nan, p-value=nan\n",
            "Independent (fail to reject H0)\n",
            "(humidity,total) => t-value=nan, p-value=nan\n",
            "Independent (fail to reject H0)\n",
            "\n",
            " --------casual--------\n",
            "(casual,registered) => t-value=nan, p-value=nan\n",
            "Independent (fail to reject H0)\n",
            "(casual,total) => t-value=nan, p-value=nan\n",
            "Independent (fail to reject H0)\n",
            "\n",
            " --------registered--------\n",
            "(registered,total) => t-value=nan, p-value=nan\n",
            "Independent (fail to reject H0)\n"
          ]
        }
      ]
    },
    {
      "cell_type": "markdown",
      "source": [
        "Chi-Square Test"
      ],
      "metadata": {
        "id": "KGq1fe-CorNO"
      }
    },
    {
      "cell_type": "code",
      "source": [
        "from scipy.stats import chi2_contingency\n",
        "from scipy.stats import chi2\n",
        "\n",
        "def chi_square_test(cat_cols, df):\n",
        "    for i in range(len(cat_cols)-1):\n",
        "        print(\"\\n\\t --------\"+cat_cols[i]+\"--------\")\n",
        "        for j in range(i+1,len(cat_cols)):\n",
        "            cat_var1 = cat_cols[i]\n",
        "            cat_var2 = cat_cols[j]\n",
        "            data_crosstab = pd.crosstab(df[cat_var1], df[cat_var2], margins = False) \n",
        "            print(data_crosstab) \n",
        "\n",
        "            stat, p, dof, expected = chi2_contingency(data_crosstab)\n",
        "            print('dof=%d' % dof)\n",
        "            print(expected)\n",
        "\n",
        "    # interpret p-value\n",
        "            alpha = 0.05\n",
        "            print('significance=%.3f, p=%.3f' % (alpha, p))\n",
        "            if p <= alpha:\n",
        "                print('Dependent (reject H0)')\n",
        "            else:\n",
        "                print('Independent (fail to reject H0)')\n",
        "            print(\"\\n\")"
      ],
      "metadata": {
        "id": "mtYV2o_5oqcL"
      },
      "execution_count": null,
      "outputs": []
    },
    {
      "cell_type": "markdown",
      "source": [
        "ANOVA"
      ],
      "metadata": {
        "id": "iUxabOGGo7gX"
      }
    },
    {
      "cell_type": "code",
      "source": [
        "import statsmodels.api as sm\n",
        "from statsmodels.formula.api import ols\n",
        "\n",
        "def anova_test(num_cols, cat_cols, df):\n",
        "    for i in range(len(num_cols)-1):   \n",
        "        num_col = num_cols[i]\n",
        "        for j in range(len(cat_cols)-1):\n",
        "            cat_col = cat_cols[j]\n",
        "            mod = ols(num_col+\" ~ \"+cat_col,data=df).fit()\n",
        "            aov_table=sm.stats.anova_lm(mod, typ=2)\n",
        "            print (\"\\nANOVA => \"+num_col+\" - \"+cat_col)\n",
        "            print(aov_table)\n",
        "            print()"
      ],
      "metadata": {
        "id": "4vFBxHr5o7CS"
      },
      "execution_count": null,
      "outputs": []
    },
    {
      "cell_type": "markdown",
      "source": [
        "Tukey Test"
      ],
      "metadata": {
        "id": "yJnJJaDno_-C"
      }
    },
    {
      "cell_type": "code",
      "source": [
        "from statsmodels.stats.multicomp import pairwise_tukeyhsd\n",
        "\n",
        "def tukeyhsd_test(num_cols, cat_cols, df):\n",
        "    for i in range(len(num_cols)-1):\n",
        "        num_var = num_cols[i]\n",
        "        print(\"\\t-------------\"+num_var+\"-------------\")\n",
        "        for j in range(len(cat_cols)-1):\n",
        "            cat_var = cat_cols[j]\n",
        "            tukey = pairwise_tukeyhsd(endog=df[num_var], groups=df[cat_var], alpha=0.05)\n",
        "            #display results\n",
        "            \n",
        "            print(cat_var)\n",
        "            print(tukey)\n",
        "            print()"
      ],
      "metadata": {
        "id": "tS9Sc9sNpGQm"
      },
      "execution_count": null,
      "outputs": []
    }
  ]
}